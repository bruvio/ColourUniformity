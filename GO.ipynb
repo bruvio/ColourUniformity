{
 "metadata": {
  "language_info": {
   "codemirror_mode": {
    "name": "ipython",
    "version": 3
   },
   "file_extension": ".py",
   "mimetype": "text/x-python",
   "name": "python",
   "nbconvert_exporter": "python",
   "pygments_lexer": "ipython3",
   "version": "3.8.0"
  },
  "orig_nbformat": 2,
  "kernelspec": {
   "name": "python380jvsc74a57bd08982542d6d16c0536fb1b5d6e2c4c5af02d9c9dd69b5c695580839ece1628217",
   "display_name": "Python 3.8.0 64-bit ('env': venv)"
  },
  "metadata": {
   "interpreter": {
    "hash": "e800bd6b8334e84b191cc75ccb25649c3a1f6422b9462836ced6b2a5fb889b6a"
   }
  }
 },
 "nbformat": 4,
 "nbformat_minor": 2,
 "cells": [
  {
   "cell_type": "code",
   "execution_count": 1,
   "metadata": {},
   "outputs": [],
   "source": [
    "import pandas as pd\n",
    "import itertools\n",
    "import numpy as np"
   ]
  },
  {
   "source": [
    "### reading file"
   ],
   "cell_type": "markdown",
   "metadata": {}
  },
  {
   "cell_type": "code",
   "execution_count": 2,
   "metadata": {},
   "outputs": [
    {
     "output_type": "stream",
     "name": "stderr",
     "text": [
      "/Users/bruvio/Documents/Dropbox/Documenti/Job_applications/posts/WaveOptics/env/lib/python3.8/site-packages/openpyxl/worksheet/_reader.py:312: UserWarning: Unknown extension is not supported and will be removed\n  warn(msg)\n"
     ]
    }
   ],
   "source": [
    "\n",
    "df = pd.read_excel('uniformity-excercise.xlsx', sheet_name='Sheet1')"
   ]
  },
  {
   "source": [
    "### removing empty columns"
   ],
   "cell_type": "markdown",
   "metadata": {}
  },
  {
   "cell_type": "code",
   "execution_count": 3,
   "metadata": {},
   "outputs": [],
   "source": [
    "\n",
    "df.dropna(how='all', axis=1, inplace=True)"
   ]
  },
  {
   "source": [
    "### dividing data in 2 samples as per instructions"
   ],
   "cell_type": "markdown",
   "metadata": {}
  },
  {
   "cell_type": "code",
   "execution_count": 4,
   "metadata": {},
   "outputs": [],
   "source": [
    "\n",
    "sample1_df = df[df.columns[1:9]]\n",
    "sample2_df = df[df.columns[9:]]"
   ]
  },
  {
   "source": [
    "### dropping useless columns and first two useles rows"
   ],
   "cell_type": "markdown",
   "metadata": {}
  },
  {
   "cell_type": "code",
   "execution_count": 5,
   "metadata": {},
   "outputs": [],
   "source": [
    "sample1_df_clear = sample1_df.drop(sample1_df.index[[0,1]])\n",
    "sample2_df_clear = sample2_df.drop(sample2_df.index[[0,1]])\n",
    "sample1_df_clear = sample1_df_clear.reset_index(drop=True)\n",
    "sample2_df_clear = sample2_df_clear.reset_index(drop=True)\n",
    "\n"
   ]
  },
  {
   "source": [
    "### sanity renaming of columns"
   ],
   "cell_type": "markdown",
   "metadata": {}
  },
  {
   "cell_type": "code",
   "execution_count": 6,
   "metadata": {},
   "outputs": [],
   "source": [
    "\n",
    "new_column_list = ['white_u','white_v','red_u','red_v','green_u','green_v','blue_u','blue_v']\n",
    "\n",
    "sample1_df_clear.columns = new_column_list\n",
    "sample2_df_clear.columns = new_column_list"
   ]
  },
  {
   "source": [
    "### dealing with potential missing data"
   ],
   "cell_type": "markdown",
   "metadata": {}
  },
  {
   "cell_type": "code",
   "execution_count": 7,
   "metadata": {},
   "outputs": [],
   "source": [
    "from sklearn.impute import SimpleImputer\n",
    "def InputingDF(df):\n",
    "    df.replace('',np.NaN,inplace=True)\n",
    "\n",
    "\n",
    "    imp=SimpleImputer(missing_values=np.NaN, strategy='median')\n",
    "    idf=pd.DataFrame(imp.fit_transform(df))\n",
    "    idf.columns=df.columns\n",
    "    idf.index=df.index\n",
    "    return idf\n",
    "\n",
    "sample1_final = InputingDF(sample1_df_clear)\n",
    "sample2_final = InputingDF(sample2_df_clear)"
   ]
  },
  {
   "source": [
    "### utility function for creating list from colour measurements"
   ],
   "cell_type": "markdown",
   "metadata": {}
  },
  {
   "cell_type": "code",
   "execution_count": 8,
   "metadata": {},
   "outputs": [],
   "source": [
    "def create_list(colour):\n",
    "    fList = []\n",
    "    for o in range(0,len(colour)):\n",
    "        mInput = [colour[o][0], colour[o][1]]\n",
    "        x,y = float(mInput[0]), float(mInput[1])\n",
    "        fList += [(x, y)]\n",
    "    return fList"
   ]
  },
  {
   "source": [
    "### utility function for computing Euclidean distance"
   ],
   "cell_type": "markdown",
   "metadata": {}
  },
  {
   "cell_type": "code",
   "execution_count": 9,
   "metadata": {},
   "outputs": [],
   "source": [
    "import math\n",
    "def distance(p0, p1):\n",
    "    return [math.sqrt((p0[0][0] - p1[0][0])**2 + (p0[0][1] - p1[0][1])**2),'distance between index {} and {}'.format(p0[1],p1[1])]"
   ]
  },
  {
   "source": [
    "# Solving task A"
   ],
   "cell_type": "markdown",
   "metadata": {}
  },
  {
   "cell_type": "code",
   "execution_count": 10,
   "metadata": {},
   "outputs": [],
   "source": [
    "from functools import partial, wraps\n",
    "\n",
    "def print_result(func=None, *, prefix=''):\n",
    "    if func is None:\n",
    "        return partial(print_result, prefix=prefix)\n",
    "\n",
    "    @wraps(func)\n",
    "    def wrapper(*args, **kwargs):\n",
    "        print(func.__name__ + ' called with parameters \\n')\n",
    "        for arg in args:\n",
    "            print(arg)\n",
    "        result = func(*args, **kwargs)\n",
    "        print(f'{prefix}{result}')\n",
    "        #return result\n",
    "    return wrapper\n"
   ]
  },
  {
   "cell_type": "code",
   "execution_count": 30,
   "metadata": {},
   "outputs": [],
   "source": [
    "@print_result(prefix='The return value is ')\n",
    "def task_A(colour,DF):\n",
    "    vars()[colour] = DF[[colour+'_u',colour+'_v']].values\n",
    "\n",
    "    fList = create_list(vars()[colour])\n",
    "    print((len(fList[0])))\n",
    "    index = np.arange(1,36)\n",
    "\n",
    "    fullList = [[(fList[i][0], fList[i][1]),i+1] for i in range(0,35)]\n",
    "    vars()['max_distance_'+colour] = distance(fullList[0], fullList[1])\n",
    "    for p0, p1 in itertools.combinations(fullList, 2):\n",
    "    \n",
    "        vars()['max_distance_'+colour] = max(vars()['max_distance_'+colour], distance(p0, p1))\n",
    "\n",
    "    return vars()['max_distance_'+colour]\n",
    "\n"
   ]
  },
  {
   "cell_type": "code",
   "execution_count": 31,
   "metadata": {},
   "outputs": [
    {
     "output_type": "stream",
     "name": "stdout",
     "text": [
      "task_A called with parameters \n\nwhite\n     white_u   white_v     red_u     red_v   green_u   green_v    blue_u  \\\n0   0.134993  0.474799  0.586114  0.488880  0.055864  0.581755  0.156617   \n1   0.143069  0.463437  0.580067  0.488633  0.057382  0.583713  0.163863   \n2   0.153432  0.444053  0.579008  0.487188  0.057569  0.582365  0.163928   \n3   0.137312  0.438667  0.558304  0.480521  0.063682  0.582825  0.166744   \n4   0.143778  0.447159  0.571003  0.486987  0.058370  0.583370  0.164257   \n5   0.144146  0.465416  0.580550  0.489017  0.058931  0.583179  0.161986   \n6   0.143185  0.476591  0.579603  0.491210  0.056709  0.581595  0.154368   \n7   0.164306  0.452526  0.591313  0.488182  0.054257  0.582722  0.159904   \n8   0.153799  0.441693  0.575515  0.487688  0.057557  0.582524  0.164366   \n9   0.167191  0.416625  0.575337  0.485417  0.065344  0.580497  0.164691   \n10  0.142935  0.409320  0.551033  0.473625  0.064036  0.581374  0.166621   \n11  0.157447  0.421487  0.571041  0.484762  0.062052  0.581675  0.164869   \n12  0.158093  0.437442  0.573114  0.488008  0.059963  0.581967  0.163100   \n13  0.164109  0.451847  0.580876  0.489532  0.059841  0.580438  0.157558   \n14  0.172163  0.418689  0.576938  0.486789  0.063625  0.579211  0.163481   \n15  0.169001  0.418297  0.574463  0.485844  0.070173  0.579983  0.164716   \n16  0.165932  0.394840  0.566078  0.480831  0.075624  0.579619  0.165818   \n17  0.149199  0.378552  0.543671  0.463244  0.067922  0.580445  0.166838   \n18  0.161261  0.392382  0.561988  0.479370  0.071563  0.580027  0.165825   \n19  0.167942  0.406835  0.568071  0.484897  0.069343  0.580578  0.164584   \n20  0.170179  0.404486  0.567948  0.484695  0.069488  0.579010  0.164258   \n21  0.164860  0.397117  0.557690  0.481798  0.079643  0.578397  0.165275   \n22  0.164707  0.408668  0.568291  0.481687  0.080244  0.580166  0.165559   \n23  0.154293  0.388129  0.545128  0.471508  0.077792  0.581139  0.167043   \n24  0.149348  0.361885  0.522213  0.449375  0.070777  0.580632  0.168198   \n25  0.155075  0.381808  0.545863  0.470690  0.076046  0.580936  0.167213   \n26  0.161857  0.396790  0.557856  0.479410  0.079280  0.580426  0.166565   \n27  0.164631  0.396261  0.557813  0.480477  0.080558  0.579410  0.166348   \n28  0.149452  0.397953  0.536707  0.471547  0.076457  0.582017  0.167036   \n29  0.146217  0.404688  0.532931  0.469549  0.076153  0.582375  0.166385   \n30  0.143549  0.389215  0.515419  0.456200  0.072570  0.583029  0.168190   \n31  0.143733  0.364305  0.499435  0.435754  0.066917  0.582215  0.168956   \n32  0.145346  0.392290  0.529255  0.461283  0.072905  0.582740  0.168216   \n33  0.145542  0.404962  0.529788  0.470036  0.075367  0.582449  0.167147   \n34  0.149881  0.408705  0.541902  0.475283  0.077866  0.582119  0.167241   \n\n      blue_v  \n0   0.106374  \n1   0.083404  \n2   0.083412  \n3   0.074201  \n4   0.081649  \n5   0.089608  \n6   0.115024  \n7   0.095502  \n8   0.081329  \n9   0.080254  \n10  0.074201  \n11  0.079409  \n12  0.085418  \n13  0.103511  \n14  0.083605  \n15  0.079818  \n16  0.076151  \n17  0.072926  \n18  0.075994  \n19  0.080255  \n20  0.081520  \n21  0.077619  \n22  0.076817  \n23  0.071942  \n24  0.068225  \n25  0.071334  \n26  0.073703  \n27  0.074554  \n28  0.071789  \n29  0.073918  \n30  0.068079  \n31  0.065680  \n32  0.068089  \n33  0.071644  \n34  0.071357  \n2\nThe return value is [0.11487203396562734, 'distance between index 7 and 25']\n"
     ]
    }
   ],
   "source": [
    "task_A('white',sample1_final)"
   ]
  },
  {
   "cell_type": "code",
   "execution_count": 13,
   "metadata": {},
   "outputs": [
    {
     "output_type": "stream",
     "name": "stdout",
     "text": [
      "task_A called with parameters \n\nred\n     white_u   white_v     red_u     red_v   green_u   green_v    blue_u  \\\n0   0.134993  0.474799  0.586114  0.488880  0.055864  0.581755  0.156617   \n1   0.143069  0.463437  0.580067  0.488633  0.057382  0.583713  0.163863   \n2   0.153432  0.444053  0.579008  0.487188  0.057569  0.582365  0.163928   \n3   0.137312  0.438667  0.558304  0.480521  0.063682  0.582825  0.166744   \n4   0.143778  0.447159  0.571003  0.486987  0.058370  0.583370  0.164257   \n5   0.144146  0.465416  0.580550  0.489017  0.058931  0.583179  0.161986   \n6   0.143185  0.476591  0.579603  0.491210  0.056709  0.581595  0.154368   \n7   0.164306  0.452526  0.591313  0.488182  0.054257  0.582722  0.159904   \n8   0.153799  0.441693  0.575515  0.487688  0.057557  0.582524  0.164366   \n9   0.167191  0.416625  0.575337  0.485417  0.065344  0.580497  0.164691   \n10  0.142935  0.409320  0.551033  0.473625  0.064036  0.581374  0.166621   \n11  0.157447  0.421487  0.571041  0.484762  0.062052  0.581675  0.164869   \n12  0.158093  0.437442  0.573114  0.488008  0.059963  0.581967  0.163100   \n13  0.164109  0.451847  0.580876  0.489532  0.059841  0.580438  0.157558   \n14  0.172163  0.418689  0.576938  0.486789  0.063625  0.579211  0.163481   \n15  0.169001  0.418297  0.574463  0.485844  0.070173  0.579983  0.164716   \n16  0.165932  0.394840  0.566078  0.480831  0.075624  0.579619  0.165818   \n17  0.149199  0.378552  0.543671  0.463244  0.067922  0.580445  0.166838   \n18  0.161261  0.392382  0.561988  0.479370  0.071563  0.580027  0.165825   \n19  0.167942  0.406835  0.568071  0.484897  0.069343  0.580578  0.164584   \n20  0.170179  0.404486  0.567948  0.484695  0.069488  0.579010  0.164258   \n21  0.164860  0.397117  0.557690  0.481798  0.079643  0.578397  0.165275   \n22  0.164707  0.408668  0.568291  0.481687  0.080244  0.580166  0.165559   \n23  0.154293  0.388129  0.545128  0.471508  0.077792  0.581139  0.167043   \n24  0.149348  0.361885  0.522213  0.449375  0.070777  0.580632  0.168198   \n25  0.155075  0.381808  0.545863  0.470690  0.076046  0.580936  0.167213   \n26  0.161857  0.396790  0.557856  0.479410  0.079280  0.580426  0.166565   \n27  0.164631  0.396261  0.557813  0.480477  0.080558  0.579410  0.166348   \n28  0.149452  0.397953  0.536707  0.471547  0.076457  0.582017  0.167036   \n29  0.146217  0.404688  0.532931  0.469549  0.076153  0.582375  0.166385   \n30  0.143549  0.389215  0.515419  0.456200  0.072570  0.583029  0.168190   \n31  0.143733  0.364305  0.499435  0.435754  0.066917  0.582215  0.168956   \n32  0.145346  0.392290  0.529255  0.461283  0.072905  0.582740  0.168216   \n33  0.145542  0.404962  0.529788  0.470036  0.075367  0.582449  0.167147   \n34  0.149881  0.408705  0.541902  0.475283  0.077866  0.582119  0.167241   \n\n      blue_v  \n0   0.106374  \n1   0.083404  \n2   0.083412  \n3   0.074201  \n4   0.081649  \n5   0.089608  \n6   0.115024  \n7   0.095502  \n8   0.081329  \n9   0.080254  \n10  0.074201  \n11  0.079409  \n12  0.085418  \n13  0.103511  \n14  0.083605  \n15  0.079818  \n16  0.076151  \n17  0.072926  \n18  0.075994  \n19  0.080255  \n20  0.081520  \n21  0.077619  \n22  0.076817  \n23  0.071942  \n24  0.068225  \n25  0.071334  \n26  0.073703  \n27  0.074554  \n28  0.071789  \n29  0.073918  \n30  0.068079  \n31  0.065680  \n32  0.068089  \n33  0.071644  \n34  0.071357  \nThe return value is [0.1057837560682759, 'distance between index 8 and 32']\n"
     ]
    }
   ],
   "source": [
    "task_A('red',sample1_final)\n"
   ]
  },
  {
   "cell_type": "code",
   "execution_count": 14,
   "metadata": {},
   "outputs": [
    {
     "output_type": "stream",
     "name": "stdout",
     "text": [
      "task_A called with parameters \n\nblue\n     white_u   white_v     red_u     red_v   green_u   green_v    blue_u  \\\n0   0.134993  0.474799  0.586114  0.488880  0.055864  0.581755  0.156617   \n1   0.143069  0.463437  0.580067  0.488633  0.057382  0.583713  0.163863   \n2   0.153432  0.444053  0.579008  0.487188  0.057569  0.582365  0.163928   \n3   0.137312  0.438667  0.558304  0.480521  0.063682  0.582825  0.166744   \n4   0.143778  0.447159  0.571003  0.486987  0.058370  0.583370  0.164257   \n5   0.144146  0.465416  0.580550  0.489017  0.058931  0.583179  0.161986   \n6   0.143185  0.476591  0.579603  0.491210  0.056709  0.581595  0.154368   \n7   0.164306  0.452526  0.591313  0.488182  0.054257  0.582722  0.159904   \n8   0.153799  0.441693  0.575515  0.487688  0.057557  0.582524  0.164366   \n9   0.167191  0.416625  0.575337  0.485417  0.065344  0.580497  0.164691   \n10  0.142935  0.409320  0.551033  0.473625  0.064036  0.581374  0.166621   \n11  0.157447  0.421487  0.571041  0.484762  0.062052  0.581675  0.164869   \n12  0.158093  0.437442  0.573114  0.488008  0.059963  0.581967  0.163100   \n13  0.164109  0.451847  0.580876  0.489532  0.059841  0.580438  0.157558   \n14  0.172163  0.418689  0.576938  0.486789  0.063625  0.579211  0.163481   \n15  0.169001  0.418297  0.574463  0.485844  0.070173  0.579983  0.164716   \n16  0.165932  0.394840  0.566078  0.480831  0.075624  0.579619  0.165818   \n17  0.149199  0.378552  0.543671  0.463244  0.067922  0.580445  0.166838   \n18  0.161261  0.392382  0.561988  0.479370  0.071563  0.580027  0.165825   \n19  0.167942  0.406835  0.568071  0.484897  0.069343  0.580578  0.164584   \n20  0.170179  0.404486  0.567948  0.484695  0.069488  0.579010  0.164258   \n21  0.164860  0.397117  0.557690  0.481798  0.079643  0.578397  0.165275   \n22  0.164707  0.408668  0.568291  0.481687  0.080244  0.580166  0.165559   \n23  0.154293  0.388129  0.545128  0.471508  0.077792  0.581139  0.167043   \n24  0.149348  0.361885  0.522213  0.449375  0.070777  0.580632  0.168198   \n25  0.155075  0.381808  0.545863  0.470690  0.076046  0.580936  0.167213   \n26  0.161857  0.396790  0.557856  0.479410  0.079280  0.580426  0.166565   \n27  0.164631  0.396261  0.557813  0.480477  0.080558  0.579410  0.166348   \n28  0.149452  0.397953  0.536707  0.471547  0.076457  0.582017  0.167036   \n29  0.146217  0.404688  0.532931  0.469549  0.076153  0.582375  0.166385   \n30  0.143549  0.389215  0.515419  0.456200  0.072570  0.583029  0.168190   \n31  0.143733  0.364305  0.499435  0.435754  0.066917  0.582215  0.168956   \n32  0.145346  0.392290  0.529255  0.461283  0.072905  0.582740  0.168216   \n33  0.145542  0.404962  0.529788  0.470036  0.075367  0.582449  0.167147   \n34  0.149881  0.408705  0.541902  0.475283  0.077866  0.582119  0.167241   \n\n      blue_v  \n0   0.106374  \n1   0.083404  \n2   0.083412  \n3   0.074201  \n4   0.081649  \n5   0.089608  \n6   0.115024  \n7   0.095502  \n8   0.081329  \n9   0.080254  \n10  0.074201  \n11  0.079409  \n12  0.085418  \n13  0.103511  \n14  0.083605  \n15  0.079818  \n16  0.076151  \n17  0.072926  \n18  0.075994  \n19  0.080255  \n20  0.081520  \n21  0.077619  \n22  0.076817  \n23  0.071942  \n24  0.068225  \n25  0.071334  \n26  0.073703  \n27  0.074554  \n28  0.071789  \n29  0.073918  \n30  0.068079  \n31  0.065680  \n32  0.068089  \n33  0.071644  \n34  0.071357  \nThe return value is [0.0514546801257305, 'distance between index 7 and 32']\n"
     ]
    }
   ],
   "source": [
    "task_A('blue',sample1_final)"
   ]
  },
  {
   "cell_type": "code",
   "execution_count": 15,
   "metadata": {},
   "outputs": [
    {
     "output_type": "stream",
     "name": "stdout",
     "text": [
      "task_A called with parameters \n\ngreen\n     white_u   white_v     red_u     red_v   green_u   green_v    blue_u  \\\n0   0.134993  0.474799  0.586114  0.488880  0.055864  0.581755  0.156617   \n1   0.143069  0.463437  0.580067  0.488633  0.057382  0.583713  0.163863   \n2   0.153432  0.444053  0.579008  0.487188  0.057569  0.582365  0.163928   \n3   0.137312  0.438667  0.558304  0.480521  0.063682  0.582825  0.166744   \n4   0.143778  0.447159  0.571003  0.486987  0.058370  0.583370  0.164257   \n5   0.144146  0.465416  0.580550  0.489017  0.058931  0.583179  0.161986   \n6   0.143185  0.476591  0.579603  0.491210  0.056709  0.581595  0.154368   \n7   0.164306  0.452526  0.591313  0.488182  0.054257  0.582722  0.159904   \n8   0.153799  0.441693  0.575515  0.487688  0.057557  0.582524  0.164366   \n9   0.167191  0.416625  0.575337  0.485417  0.065344  0.580497  0.164691   \n10  0.142935  0.409320  0.551033  0.473625  0.064036  0.581374  0.166621   \n11  0.157447  0.421487  0.571041  0.484762  0.062052  0.581675  0.164869   \n12  0.158093  0.437442  0.573114  0.488008  0.059963  0.581967  0.163100   \n13  0.164109  0.451847  0.580876  0.489532  0.059841  0.580438  0.157558   \n14  0.172163  0.418689  0.576938  0.486789  0.063625  0.579211  0.163481   \n15  0.169001  0.418297  0.574463  0.485844  0.070173  0.579983  0.164716   \n16  0.165932  0.394840  0.566078  0.480831  0.075624  0.579619  0.165818   \n17  0.149199  0.378552  0.543671  0.463244  0.067922  0.580445  0.166838   \n18  0.161261  0.392382  0.561988  0.479370  0.071563  0.580027  0.165825   \n19  0.167942  0.406835  0.568071  0.484897  0.069343  0.580578  0.164584   \n20  0.170179  0.404486  0.567948  0.484695  0.069488  0.579010  0.164258   \n21  0.164860  0.397117  0.557690  0.481798  0.079643  0.578397  0.165275   \n22  0.164707  0.408668  0.568291  0.481687  0.080244  0.580166  0.165559   \n23  0.154293  0.388129  0.545128  0.471508  0.077792  0.581139  0.167043   \n24  0.149348  0.361885  0.522213  0.449375  0.070777  0.580632  0.168198   \n25  0.155075  0.381808  0.545863  0.470690  0.076046  0.580936  0.167213   \n26  0.161857  0.396790  0.557856  0.479410  0.079280  0.580426  0.166565   \n27  0.164631  0.396261  0.557813  0.480477  0.080558  0.579410  0.166348   \n28  0.149452  0.397953  0.536707  0.471547  0.076457  0.582017  0.167036   \n29  0.146217  0.404688  0.532931  0.469549  0.076153  0.582375  0.166385   \n30  0.143549  0.389215  0.515419  0.456200  0.072570  0.583029  0.168190   \n31  0.143733  0.364305  0.499435  0.435754  0.066917  0.582215  0.168956   \n32  0.145346  0.392290  0.529255  0.461283  0.072905  0.582740  0.168216   \n33  0.145542  0.404962  0.529788  0.470036  0.075367  0.582449  0.167147   \n34  0.149881  0.408705  0.541902  0.475283  0.077866  0.582119  0.167241   \n\n      blue_v  \n0   0.106374  \n1   0.083404  \n2   0.083412  \n3   0.074201  \n4   0.081649  \n5   0.089608  \n6   0.115024  \n7   0.095502  \n8   0.081329  \n9   0.080254  \n10  0.074201  \n11  0.079409  \n12  0.085418  \n13  0.103511  \n14  0.083605  \n15  0.079818  \n16  0.076151  \n17  0.072926  \n18  0.075994  \n19  0.080255  \n20  0.081520  \n21  0.077619  \n22  0.076817  \n23  0.071942  \n24  0.068225  \n25  0.071334  \n26  0.073703  \n27  0.074554  \n28  0.071789  \n29  0.073918  \n30  0.068079  \n31  0.065680  \n32  0.068089  \n33  0.071644  \n34  0.071357  \nThe return value is [0.02650824433491447, 'distance between index 8 and 28']\n"
     ]
    }
   ],
   "source": [
    "task_A('green',sample1_final)"
   ]
  },
  {
   "cell_type": "code",
   "execution_count": 16,
   "metadata": {},
   "outputs": [],
   "source": [
    "### utility function for creating a list of measurement points"
   ]
  },
  {
   "cell_type": "code",
   "execution_count": 17,
   "metadata": {},
   "outputs": [],
   "source": [
    "\n",
    "def create_point(colour):\n",
    "    x = []\n",
    "    y =[]\n",
    "    for o in range(0,len(colour)):\n",
    "            x.append(colour[o][0])\n",
    "            y.append(colour[o][1])\n",
    "\n",
    "    fList = list(zip(x, y))\n",
    "    return fList\n"
   ]
  },
  {
   "source": [
    "### utility function for defining the matrix of measurement as per instructions"
   ],
   "cell_type": "markdown",
   "metadata": {}
  },
  {
   "cell_type": "code",
   "execution_count": 18,
   "metadata": {},
   "outputs": [],
   "source": [
    "def create_matrix(colour,m=5,n=7):\n",
    "    fList = create_point(colour)\n",
    "    matrix = [[0 for x in range(0,n)] for y in range(0,m)]\n",
    "    index = 1\n",
    "    for i in range(m-1,-1,-1):\n",
    "        for j in range(0,n):\n",
    "            matrix[i][j] = [fList[j+n*(m-i-1)],index] \n",
    "            index +=1\n",
    "    mm=np.asarray(matrix,dtype=object)  \n",
    "    return mm\n"
   ]
  },
  {
   "source": [
    "### utility function for getting adjacent cells of cell (i,j)"
   ],
   "cell_type": "markdown",
   "metadata": {}
  },
  {
   "cell_type": "code",
   "execution_count": 19,
   "metadata": {},
   "outputs": [],
   "source": [
    "def get_adjacents(i,j,matrix):\n",
    "    m=matrix.shape[0]\n",
    "    n=matrix.shape[1]\n",
    "    adjacent_indexes = []\n",
    "    if i>m or j>n or i<0 or j <0:\n",
    "        return adjacent_indexes\n",
    "    if i> 0:\n",
    "        adjacent_indexes.append((i-1,j))\n",
    "\n",
    "    if i+1<m :\n",
    "        adjacent_indexes.append((i+1,j))\n",
    "\n",
    "    if j> 0:\n",
    "        adjacent_indexes.append((i,j-1))\n",
    "\n",
    "    if j+1<n:\n",
    "        adjacent_indexes.append((i,j+1))\n",
    "    return adjacent_indexes"
   ]
  },
  {
   "source": [
    "### utility function to create the list of measurements give a adjacent cells list"
   ],
   "cell_type": "markdown",
   "metadata": {}
  },
  {
   "cell_type": "code",
   "execution_count": 20,
   "metadata": {},
   "outputs": [],
   "source": [
    "def create_adjacent_list(adjacent_indexes,matrix):\n",
    "    aList = []\n",
    "    if adjacent_indexes:\n",
    "        \n",
    "        for o in range(0,len(adjacent_indexes)):\n",
    "            mInput = matrix[adjacent_indexes[o][0],adjacent_indexes[o][1]][0]\n",
    "            x,y = float(mInput[0]), float(mInput[1])\n",
    "            aList += [[(x, y),matrix[adjacent_indexes[o][0],adjacent_indexes[o][1]][1]]]\n",
    "        return aList\n",
    "\n",
    "\n"
   ]
  },
  {
   "source": [
    "# Solving task B"
   ],
   "cell_type": "markdown",
   "metadata": {}
  },
  {
   "cell_type": "code",
   "execution_count": 21,
   "metadata": {},
   "outputs": [],
   "source": [
    "@print_result(prefix='The return value is ')\n",
    "def task_B(colour, DF):\n",
    "    \"\"\"main function to solve task B\n",
    "        scans the matrix to find the two points that are horizontally or vertically adjacent and returns the max colour distance\n",
    "    Args:\n",
    "        colour ([string]): [name of the colour to be used for calculations]\n",
    "        DF ([pandas dataframe]): [dataframe containing input data to be used]\n",
    "    Returns:\n",
    "        [float]: [max distance between any two adjacent points horizontally or vertically]\n",
    "    \"\"\"\n",
    "    vars()[colour] = DF[[colour + \"_u\", colour + \"_v\"]].values\n",
    "    matrix = create_matrix(vars()[colour])\n",
    "    m = matrix.shape[0]\n",
    "    n = matrix.shape[1]\n",
    "    maxAdjacent_max_distance = 0\n",
    "    comment = ''\n",
    "    for i in range(0,m):\n",
    "        for j in range(0,n):\n",
    "            \n",
    "            adjacent_indexes = get_adjacents(i, j, matrix)\n",
    "            aList = create_adjacent_list(adjacent_indexes, matrix)\n",
    "            \n",
    "            if aList:\n",
    "\n",
    "                    Adjacent_max_distance = 0\n",
    "                    for p in aList:\n",
    "                        if distance(matrix[i][j], p)[0] >Adjacent_max_distance:\n",
    "                            Adjacent_max_distance = distance(matrix[i][j], p)[0]\n",
    "                            comment = distance(matrix[i][j], p)[1]\n",
    "\n",
    "                                                     \n",
    "            maxAdjacent_max_distance=max(maxAdjacent_max_distance,Adjacent_max_distance)\n",
    "    return [Adjacent_max_distance,comment]\n"
   ]
  },
  {
   "cell_type": "code",
   "execution_count": 22,
   "metadata": {},
   "outputs": [
    {
     "output_type": "stream",
     "name": "stdout",
     "text": [
      "task_B called with parameters \n\nwhite\n     white_u   white_v     red_u     red_v   green_u   green_v    blue_u  \\\n0   0.130649  0.467312  0.578445  0.486429  0.057459  0.582433  0.161799   \n1   0.133986  0.459237  0.574676  0.486203  0.055998  0.582409  0.163470   \n2   0.160369  0.421693  0.575155  0.484227  0.059013  0.580642  0.165665   \n3   0.140739  0.417423  0.555824  0.475057  0.063145  0.582349  0.166593   \n4   0.147755  0.451036  0.573948  0.486551  0.061154  0.583026  0.165796   \n5   0.159160  0.449770  0.578663  0.487306  0.065357  0.582674  0.166499   \n6   0.160001  0.462047  0.579740  0.489199  0.063284  0.581754  0.164619   \n7   0.153948  0.437465  0.583975  0.484905  0.053899  0.581609  0.164040   \n8   0.151640  0.422676  0.570567  0.483646  0.056774  0.580382  0.165040   \n9   0.173369  0.391106  0.573792  0.481574  0.068424  0.578603  0.166489   \n10  0.149090  0.369009  0.540343  0.461895  0.063835  0.580655  0.167818   \n11  0.158681  0.425261  0.571047  0.484371  0.063274  0.581773  0.165251   \n12  0.167015  0.436308  0.575991  0.486905  0.066108  0.581433  0.165919   \n13  0.178283  0.449489  0.584115  0.488429  0.064933  0.580094  0.165083   \n14  0.168838  0.403626  0.572204  0.483332  0.064494  0.578283  0.165497   \n15  0.167805  0.385043  0.564581  0.480210  0.068421  0.578003  0.166460   \n16  0.171080  0.371737  0.564510  0.476550  0.078083  0.578584  0.167390   \n17  0.156300  0.330414  0.527078  0.445800  0.068459  0.579486  0.168549   \n18  0.162971  0.384843  0.560160  0.477611  0.071475  0.580161  0.166679   \n19  0.169200  0.419877  0.569198  0.485660  0.072025  0.580492  0.165475   \n20  0.179892  0.430728  0.574062  0.487450  0.074117  0.578334  0.165625   \n21  0.166704  0.403270  0.558040  0.482454  0.080331  0.578868  0.166637   \n22  0.165014  0.383252  0.558345  0.475920  0.081169  0.579514  0.167683   \n23  0.158088  0.375992  0.542949  0.469092  0.079850  0.580509  0.168493   \n24  0.156088  0.323291  0.511078  0.432079  0.072348  0.579878  0.169820   \n25  0.156516  0.372741  0.542932  0.467446  0.076480  0.580590  0.168130   \n26  0.163198  0.408149  0.561860  0.481186  0.079410  0.580304  0.166837   \n27  0.166238  0.423727  0.560650  0.485462  0.081639  0.578370  0.166409   \n28  0.146668  0.423832  0.543668  0.478276  0.076162  0.582444  0.166205   \n29  0.147593  0.397297  0.532690  0.465315  0.076556  0.582127  0.168059   \n30  0.144941  0.391349  0.521202  0.457838  0.074144  0.582651  0.169266   \n31  0.149789  0.335331  0.488008  0.419922  0.068662  0.581758  0.170584   \n32  0.148013  0.378237  0.522591  0.455820  0.073960  0.582295  0.169456   \n33  0.147385  0.408860  0.537120  0.472168  0.076235  0.582170  0.167953   \n34  0.150847  0.420087  0.545083  0.479269  0.079099  0.581493  0.166141   \n\n      blue_v  \n0   0.089438  \n1   0.084176  \n2   0.077380  \n3   0.074284  \n4   0.077086  \n5   0.075090  \n6   0.082310  \n7   0.081818  \n8   0.078703  \n9   0.074234  \n10  0.069887  \n11  0.078275  \n12  0.076813  \n13  0.080505  \n14  0.077058  \n15  0.073869  \n16  0.071026  \n17  0.067135  \n18  0.073176  \n19  0.077879  \n20  0.078647  \n21  0.073353  \n22  0.069841  \n23  0.067294  \n24  0.062910  \n25  0.068383  \n26  0.073061  \n27  0.075178  \n28  0.074605  \n29  0.068594  \n30  0.064707  \n31  0.060405  \n32  0.064077  \n33  0.069212  \n34  0.075021  \nThe return value is [0.022179746776338532, 'distance between index 7 and 14']\n"
     ]
    }
   ],
   "source": [
    "task_B('white',sample2_final)\n",
    "\n",
    "\n",
    "\n"
   ]
  },
  {
   "cell_type": "code",
   "execution_count": null,
   "metadata": {},
   "outputs": [],
   "source": []
  }
 ]
}